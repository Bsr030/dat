{
  "cells": [
    {
      "cell_type": "code",
      "execution_count": null,
      "metadata": {
        "colab": {
          "base_uri": "https://localhost:8080/",
          "height": 390
        },
        "id": "2azgN8u1awhn",
        "outputId": "18a0245f-d099-475c-e712-752f577942c6"
      },
      "outputs": [
        {
          "output_type": "stream",
          "name": "stdout",
          "text": [
            "Enter the start state matrix \n",
            "\n"
          ]
        },
        {
          "output_type": "error",
          "ename": "KeyboardInterrupt",
          "evalue": "ignored",
          "traceback": [
            "\u001b[0;31m---------------------------------------------------------------------------\u001b[0m",
            "\u001b[0;31mKeyboardInterrupt\u001b[0m                         Traceback (most recent call last)",
            "\u001b[0;32m<ipython-input-1-646bedd11c37>\u001b[0m in \u001b[0;36m<cell line: 105>\u001b[0;34m()\u001b[0m\n\u001b[1;32m    103\u001b[0m \u001b[0;34m\u001b[0m\u001b[0m\n\u001b[1;32m    104\u001b[0m \u001b[0mpuz\u001b[0m \u001b[0;34m=\u001b[0m \u001b[0mPuzzle\u001b[0m\u001b[0;34m(\u001b[0m\u001b[0;36m3\u001b[0m\u001b[0;34m)\u001b[0m\u001b[0;34m\u001b[0m\u001b[0;34m\u001b[0m\u001b[0m\n\u001b[0;32m--> 105\u001b[0;31m \u001b[0mpuz\u001b[0m\u001b[0;34m.\u001b[0m\u001b[0mprocess\u001b[0m\u001b[0;34m(\u001b[0m\u001b[0;34m)\u001b[0m\u001b[0;34m\u001b[0m\u001b[0;34m\u001b[0m\u001b[0m\n\u001b[0m",
            "\u001b[0;32m<ipython-input-1-646bedd11c37>\u001b[0m in \u001b[0;36mprocess\u001b[0;34m(self)\u001b[0m\n\u001b[1;32m     71\u001b[0m     \u001b[0;32mdef\u001b[0m \u001b[0mprocess\u001b[0m\u001b[0;34m(\u001b[0m\u001b[0mself\u001b[0m\u001b[0;34m)\u001b[0m\u001b[0;34m:\u001b[0m\u001b[0;34m\u001b[0m\u001b[0;34m\u001b[0m\u001b[0m\n\u001b[1;32m     72\u001b[0m         \u001b[0mprint\u001b[0m\u001b[0;34m(\u001b[0m\u001b[0;34m\"Enter the start state matrix \\n\"\u001b[0m\u001b[0;34m)\u001b[0m\u001b[0;34m\u001b[0m\u001b[0;34m\u001b[0m\u001b[0m\n\u001b[0;32m---> 73\u001b[0;31m         \u001b[0mstart\u001b[0m \u001b[0;34m=\u001b[0m \u001b[0mself\u001b[0m\u001b[0;34m.\u001b[0m\u001b[0maccept\u001b[0m\u001b[0;34m(\u001b[0m\u001b[0;34m)\u001b[0m\u001b[0;34m\u001b[0m\u001b[0;34m\u001b[0m\u001b[0m\n\u001b[0m\u001b[1;32m     74\u001b[0m         \u001b[0mprint\u001b[0m\u001b[0;34m(\u001b[0m\u001b[0;34m\"Enter the goal state matrix \\n\"\u001b[0m\u001b[0;34m)\u001b[0m\u001b[0;34m\u001b[0m\u001b[0;34m\u001b[0m\u001b[0m\n\u001b[1;32m     75\u001b[0m         \u001b[0mgoal\u001b[0m \u001b[0;34m=\u001b[0m \u001b[0mself\u001b[0m\u001b[0;34m.\u001b[0m\u001b[0maccept\u001b[0m\u001b[0;34m(\u001b[0m\u001b[0;34m)\u001b[0m\u001b[0;34m\u001b[0m\u001b[0;34m\u001b[0m\u001b[0m\n",
            "\u001b[0;32m<ipython-input-1-646bedd11c37>\u001b[0m in \u001b[0;36maccept\u001b[0;34m(self)\u001b[0m\n\u001b[1;32m     53\u001b[0m         \u001b[0mpuz\u001b[0m \u001b[0;34m=\u001b[0m \u001b[0;34m[\u001b[0m\u001b[0;34m]\u001b[0m\u001b[0;34m\u001b[0m\u001b[0;34m\u001b[0m\u001b[0m\n\u001b[1;32m     54\u001b[0m         \u001b[0;32mfor\u001b[0m \u001b[0mi\u001b[0m \u001b[0;32min\u001b[0m \u001b[0mrange\u001b[0m\u001b[0;34m(\u001b[0m\u001b[0;36m0\u001b[0m\u001b[0;34m,\u001b[0m\u001b[0mself\u001b[0m\u001b[0;34m.\u001b[0m\u001b[0mn\u001b[0m\u001b[0;34m)\u001b[0m\u001b[0;34m:\u001b[0m\u001b[0;34m\u001b[0m\u001b[0;34m\u001b[0m\u001b[0m\n\u001b[0;32m---> 55\u001b[0;31m             \u001b[0mtemp\u001b[0m \u001b[0;34m=\u001b[0m \u001b[0minput\u001b[0m\u001b[0;34m(\u001b[0m\u001b[0;34m)\u001b[0m\u001b[0;34m.\u001b[0m\u001b[0msplit\u001b[0m\u001b[0;34m(\u001b[0m\u001b[0;34m\" \"\u001b[0m\u001b[0;34m)\u001b[0m\u001b[0;34m\u001b[0m\u001b[0;34m\u001b[0m\u001b[0m\n\u001b[0m\u001b[1;32m     56\u001b[0m             \u001b[0mpuz\u001b[0m\u001b[0;34m.\u001b[0m\u001b[0mappend\u001b[0m\u001b[0;34m(\u001b[0m\u001b[0mtemp\u001b[0m\u001b[0;34m)\u001b[0m\u001b[0;34m\u001b[0m\u001b[0;34m\u001b[0m\u001b[0m\n\u001b[1;32m     57\u001b[0m         \u001b[0;32mreturn\u001b[0m \u001b[0mpuz\u001b[0m\u001b[0;34m\u001b[0m\u001b[0;34m\u001b[0m\u001b[0m\n",
            "\u001b[0;32m/usr/local/lib/python3.10/dist-packages/ipykernel/kernelbase.py\u001b[0m in \u001b[0;36mraw_input\u001b[0;34m(self, prompt)\u001b[0m\n\u001b[1;32m    849\u001b[0m                 \u001b[0;34m\"raw_input was called, but this frontend does not support input requests.\"\u001b[0m\u001b[0;34m\u001b[0m\u001b[0;34m\u001b[0m\u001b[0m\n\u001b[1;32m    850\u001b[0m             )\n\u001b[0;32m--> 851\u001b[0;31m         return self._input_request(str(prompt),\n\u001b[0m\u001b[1;32m    852\u001b[0m             \u001b[0mself\u001b[0m\u001b[0;34m.\u001b[0m\u001b[0m_parent_ident\u001b[0m\u001b[0;34m,\u001b[0m\u001b[0;34m\u001b[0m\u001b[0;34m\u001b[0m\u001b[0m\n\u001b[1;32m    853\u001b[0m             \u001b[0mself\u001b[0m\u001b[0;34m.\u001b[0m\u001b[0m_parent_header\u001b[0m\u001b[0;34m,\u001b[0m\u001b[0;34m\u001b[0m\u001b[0;34m\u001b[0m\u001b[0m\n",
            "\u001b[0;32m/usr/local/lib/python3.10/dist-packages/ipykernel/kernelbase.py\u001b[0m in \u001b[0;36m_input_request\u001b[0;34m(self, prompt, ident, parent, password)\u001b[0m\n\u001b[1;32m    893\u001b[0m             \u001b[0;32mexcept\u001b[0m \u001b[0mKeyboardInterrupt\u001b[0m\u001b[0;34m:\u001b[0m\u001b[0;34m\u001b[0m\u001b[0;34m\u001b[0m\u001b[0m\n\u001b[1;32m    894\u001b[0m                 \u001b[0;31m# re-raise KeyboardInterrupt, to truncate traceback\u001b[0m\u001b[0;34m\u001b[0m\u001b[0;34m\u001b[0m\u001b[0m\n\u001b[0;32m--> 895\u001b[0;31m                 \u001b[0;32mraise\u001b[0m \u001b[0mKeyboardInterrupt\u001b[0m\u001b[0;34m(\u001b[0m\u001b[0;34m\"Interrupted by user\"\u001b[0m\u001b[0;34m)\u001b[0m \u001b[0;32mfrom\u001b[0m \u001b[0;32mNone\u001b[0m\u001b[0;34m\u001b[0m\u001b[0;34m\u001b[0m\u001b[0m\n\u001b[0m\u001b[1;32m    896\u001b[0m             \u001b[0;32mexcept\u001b[0m \u001b[0mException\u001b[0m \u001b[0;32mas\u001b[0m \u001b[0me\u001b[0m\u001b[0;34m:\u001b[0m\u001b[0;34m\u001b[0m\u001b[0;34m\u001b[0m\u001b[0m\n\u001b[1;32m    897\u001b[0m                 \u001b[0mself\u001b[0m\u001b[0;34m.\u001b[0m\u001b[0mlog\u001b[0m\u001b[0;34m.\u001b[0m\u001b[0mwarning\u001b[0m\u001b[0;34m(\u001b[0m\u001b[0;34m\"Invalid Message:\"\u001b[0m\u001b[0;34m,\u001b[0m \u001b[0mexc_info\u001b[0m\u001b[0;34m=\u001b[0m\u001b[0;32mTrue\u001b[0m\u001b[0;34m)\u001b[0m\u001b[0;34m\u001b[0m\u001b[0;34m\u001b[0m\u001b[0m\n",
            "\u001b[0;31mKeyboardInterrupt\u001b[0m: Interrupted by user"
          ]
        }
      ],
      "source": [
        "-class Node:\n",
        "    def __init__(self,data,level,fval):\n",
        "        self.data = data\n",
        "        self.level = level\n",
        "        self.fval = fval\n",
        "\n",
        "    def generate_child(self):\n",
        "        x,y = self.find(self.data,'_')\n",
        "        val_list = [[x,y-1],[x,y+1],[x-1,y],[x+1,y]]\n",
        "        children = []\n",
        "        for i in val_list:\n",
        "            child = self.shuffle(self.data,x,y,i[0],i[1])\n",
        "            if child is not None:\n",
        "                child_node = Node(child,self.level+1,0)\n",
        "                children.append(child_node)\n",
        "        return children\n",
        "\n",
        "    def shuffle(self,puz,x1,y1,x2,y2):\n",
        "        if x2 >= 0 and x2 < len(self.data) and y2 >= 0 and y2 < len(self.data):\n",
        "            temp_puz = []\n",
        "            temp_puz = self.copy(puz)\n",
        "            temp = temp_puz[x2][y2]\n",
        "            temp_puz[x2][y2] = temp_puz[x1][y1]\n",
        "            temp_puz[x1][y1] = temp\n",
        "            return temp_puz\n",
        "        else:\n",
        "            return None\n",
        "\n",
        "\n",
        "    def copy(self,root):\n",
        "        temp = []\n",
        "        for i in root:\n",
        "            t = []\n",
        "            for j in i:\n",
        "                t.append(j)\n",
        "            temp.append(t)\n",
        "        return temp\n",
        "\n",
        "    def find(self,puz,x):\n",
        "        for i in range(0,len(self.data)):\n",
        "            for j in range(0,len(self.data)):\n",
        "                if puz[i][j] == x:\n",
        "                    return i,j\n",
        "\n",
        "\n",
        "class Puzzle:\n",
        "    def __init__(self,size):\n",
        "        self.n = size\n",
        "        self.open = []\n",
        "        self.closed = []\n",
        "\n",
        "    def accept(self):\n",
        "        puz = []\n",
        "        for i in range(0,self.n):\n",
        "            temp = input().split(\" \")\n",
        "            puz.append(temp)\n",
        "        return puz\n",
        "\n",
        "    def f(self,start,goal):\n",
        "        return self.h(start.data,goal)+start.level\n",
        "\n",
        "    def h(self,start,goal):\n",
        "        temp = 0\n",
        "        for i in range(0,self.n):\n",
        "            for j in range(0,self.n):\n",
        "                if start[i][j] != goal[i][j] and start[i][j] != '_':\n",
        "                    temp += 1\n",
        "        return temp\n",
        "\n",
        "\n",
        "    def process(self):\n",
        "        print(\"Enter the start state matrix \\n\")\n",
        "        start = self.accept()\n",
        "        print(\"Enter the goal state matrix \\n\")\n",
        "        goal = self.accept()\n",
        "\n",
        "        start = Node(start,0,0)\n",
        "        start.fval = self.f(start,goal)\n",
        "        \"\"\" Put the start node in the open list\"\"\"\n",
        "        self.open.append(start)\n",
        "        print(\"\\n\\n\")\n",
        "        while True:\n",
        "            cur = self.open[0]\n",
        "            print(\"\")\n",
        "            print(\"  | \")\n",
        "            print(\"  | \")\n",
        "            print(\" \\\\\\'/ \\n\")\n",
        "            for i in cur.data:\n",
        "                for j in i:\n",
        "                    print(j,end=\" \")\n",
        "                print(\"\")\n",
        "            \"\"\" If the difference between current and goal node is 0 we have reached the goal node\"\"\"\n",
        "            if(self.h(cur.data,goal) == 0):\n",
        "                break\n",
        "            for i in cur.generate_child():\n",
        "                i.fval = self.f(i,goal)\n",
        "                self.open.append(i)\n",
        "            self.closed.append(cur)\n",
        "            del self.open[0]\n",
        "\n",
        "            self.open.sort(key = lambda x:x.fval,reverse=False)\n",
        "\n",
        "\n",
        "puz = Puzzle(3)\n",
        "puz.process()"
      ]
    },
    {
      "cell_type": "markdown",
      "metadata": {
        "id": "gryVgvuAa47e"
      },
      "source": [
        "genetic - 8 queen"
      ]
    },
    {
      "cell_type": "markdown",
      "metadata": {
        "id": "sotFG9O7Z7S0"
      },
      "source": [
        "A* - 8 puzzle"
      ]
    },
    {
      "cell_type": "code",
      "execution_count": null,
      "metadata": {
        "colab": {
          "base_uri": "https://localhost:8080/"
        },
        "id": "WHAmsCCLa8Il",
        "outputId": "c0ceddd9-d7fc-4b65-951f-c8fc5db4aa4a"
      },
      "outputs": [
        {
          "name": "stdout",
          "output_type": "stream",
          "text": [
            "Best solution: [2, 5, 3, 6, 0, 7, 4, 1]\n"
          ]
        }
      ],
      "source": [
        "import random\n",
        "\n",
        "# Genetic Algorithm parameters\n",
        "POPULATION_SIZE = 50\n",
        "MUTATION_RATE = 0.1\n",
        "MAX_GENERATIONS = 100\n",
        "\n",
        "# Generate a random board state\n",
        "def generate_board_state():\n",
        "    board_state = [random.randint(0, 7) for _ in range(8)]\n",
        "    return board_state\n",
        "\n",
        "# Calculate the fitness of a board state\n",
        "def calculate_fitness(board_state):\n",
        "    conflicts = 0\n",
        "    for i in range(8):\n",
        "        for j in range(i + 1, 8):\n",
        "            if board_state[i] == board_state[j] or abs(board_state[i] - board_state[j]) == j - i:\n",
        "                conflicts += 1\n",
        "    return 28 - conflicts  # Max fitness = 28 (no conflicts)\n",
        "\n",
        "# Select parents for crossover using tournament selection\n",
        "def tournament_selection(population):\n",
        "    tournament_size = 5\n",
        "    tournament = random.sample(population, tournament_size)\n",
        "    return max(tournament, key=lambda x: x[1])\n",
        "\n",
        "# Crossover operation (single-point crossover)\n",
        "def crossover(parent1, parent2):\n",
        "    crossover_point = random.randint(1, 7)\n",
        "    child = parent1[:crossover_point] + parent2[crossover_point:]\n",
        "    return child\n",
        "\n",
        "# Mutation operation (swap two positions)\n",
        "def mutate(board_state):\n",
        "    pos1, pos2 = random.sample(range(8), 2)\n",
        "    board_state[pos1], board_state[pos2] = board_state[pos2], board_state[pos1]\n",
        "    return board_state\n",
        "\n",
        "# Generate the initial population\n",
        "population = [(generate_board_state(), 0) for _ in range(POPULATION_SIZE)]\n",
        "\n",
        "# Main Genetic Algorithm loop\n",
        "for generation in range(MAX_GENERATIONS):\n",
        "    # Calculate fitness for each board state\n",
        "    population = [(board_state, calculate_fitness(board_state)) for board_state, _ in population]\n",
        "\n",
        "    # Check if solution is found\n",
        "    best_board_state = max(population, key=lambda x: x[1])[0]\n",
        "    if calculate_fitness(best_board_state) == 28:\n",
        "        print(\"Solution found in generation\", generation)\n",
        "        break\n",
        "\n",
        "    # Create the next generation\n",
        "    new_population = []\n",
        "\n",
        "    # Elitism: Keep the best board state from the previous generation\n",
        "    new_population.append(max(population, key=lambda x: x[1]))\n",
        "\n",
        "    # Perform selection, crossover, and mutation\n",
        "    while len(new_population) < POPULATION_SIZE:\n",
        "        parent1 = tournament_selection(population)\n",
        "        parent2 = tournament_selection(population)\n",
        "        child = crossover(parent1[0], parent2[0])\n",
        "        if random.random() < MUTATION_RATE:\n",
        "            child = mutate(child)\n",
        "        new_population.append((child, 0))\n",
        "\n",
        "    # Update the population\n",
        "    population = new_population\n",
        "\n",
        "# Print the best solution\n",
        "print(\"Best solution:\", best_board_state)"
      ]
    },
    {
      "cell_type": "markdown",
      "metadata": {
        "id": "I1_sjAbEbEGZ"
      },
      "source": [
        "min max"
      ]
    },
    {
      "cell_type": "code",
      "execution_count": null,
      "metadata": {
        "colab": {
          "base_uri": "https://localhost:8080/"
        },
        "id": "KegLvXOzbJT1",
        "outputId": "c27e9cd7-43e0-4410-d97e-1c2cbb973340"
      },
      "outputs": [
        {
          "output_type": "stream",
          "name": "stdout",
          "text": [
            "The optimal value is : 5\n"
          ]
        }
      ],
      "source": [
        "MAX, MIN = 1000, -1000\n",
        "\n",
        "def minimax(depth, nodeIndex, maximizingPlayer, values):\n",
        "\n",
        "    if depth == 3:\n",
        "        return values[nodeIndex]\n",
        "\n",
        "    if maximizingPlayer:\n",
        "        best = MIN\n",
        "        for i in range(0, 2):\n",
        "            val = minimax(depth + 1, nodeIndex * 2 + i, False, values)\n",
        "            best = max(best, val)\n",
        "        return best\n",
        "    else:\n",
        "        best = MAX\n",
        "        for i in range(0, 2):\n",
        "            val = minimax(depth + 1, nodeIndex * 2 + i, True, values)\n",
        "            best = min(best, val)\n",
        "        return best\n",
        "\n",
        "if __name__ == \"__main__\":\n",
        "    values = [3, 5, 6, 9, 1, 2, 0, -1]\n",
        "    print(\"The optimal value is :\", minimax(0, 0, True, values))"
      ]
    },
    {
      "cell_type": "markdown",
      "metadata": {
        "id": "UmfSjmMZbO_a"
      },
      "source": [
        "min max (tic tac toe)"
      ]
    },
    {
      "cell_type": "code",
      "execution_count": null,
      "metadata": {
        "colab": {
          "base_uri": "https://localhost:8080/"
        },
        "id": "1lWRsZtNbsXX",
        "outputId": "e9731bb9-3255-4c05-c3b0-bd483a3a5c5b"
      },
      "outputs": [
        {
          "name": "stdout",
          "output_type": "stream",
          "text": [
            "[[0 0 0]\n",
            " [0 0 0]\n",
            " [0 0 0]]\n",
            "Board after 1 move\n",
            "[[0 0 0]\n",
            " [1 0 0]\n",
            " [0 0 0]]\n",
            "Board after 2 move\n",
            "[[0 0 0]\n",
            " [1 0 0]\n",
            " [0 0 2]]\n",
            "Board after 3 move\n",
            "[[0 0 0]\n",
            " [1 0 1]\n",
            " [0 0 2]]\n",
            "Board after 4 move\n",
            "[[0 0 0]\n",
            " [1 0 1]\n",
            " [0 2 2]]\n",
            "Board after 5 move\n",
            "[[0 1 0]\n",
            " [1 0 1]\n",
            " [0 2 2]]\n",
            "Board after 6 move\n",
            "[[2 1 0]\n",
            " [1 0 1]\n",
            " [0 2 2]]\n",
            "Board after 7 move\n",
            "[[2 1 0]\n",
            " [1 1 1]\n",
            " [0 2 2]]\n",
            "Winner is: 1\n"
          ]
        }
      ],
      "source": [
        "import numpy as np\n",
        "import random\n",
        "from time import sleep\n",
        "def create_board():\n",
        "    return(np.array([[0, 0, 0],\n",
        "                    [0, 0, 0],\n",
        "                    [0, 0, 0]]))\n",
        "def possibilities(board):\n",
        "    l = []\n",
        "    for i in range(len(board)):\n",
        "        for j in range(len(board)):\n",
        "            if board[i][j] == 0:\n",
        "                l.append((i, j))\n",
        "    return(l)\n",
        "def random_place(board, player):\n",
        "    selection = possibilities(board)\n",
        "    current_loc = random.choice(selection)\n",
        "    board[current_loc] = player\n",
        "    return(board)\n",
        "def row_win(board, player):\n",
        "    for x in range(len(board)):\n",
        "        win = True\n",
        "        for y in range(len(board)):\n",
        "            if board[x, y] != player:\n",
        "                win = False\n",
        "                continue\n",
        "        if win == True:\n",
        "            return(win)\n",
        "    return(win)\n",
        "def col_win(board, player):\n",
        "    for x in range(len(board)):\n",
        "        win = True\n",
        "\n",
        "        for y in range(len(board)):\n",
        "            if board[y][x] != player:\n",
        "                win = False\n",
        "                continue\n",
        "\n",
        "        if win == True:\n",
        "            return(win)\n",
        "    return(win)\n",
        "def diag_win(board, player):\n",
        "    win = True\n",
        "    y = 0\n",
        "    for x in range(len(board)):\n",
        "        if board[x, x] != player:\n",
        "            win = False\n",
        "    if win:\n",
        "        return win\n",
        "    win = True\n",
        "    if win:\n",
        "        for x in range(len(board)):\n",
        "            y = len(board) - 1 - x\n",
        "            if board[x, y] != player:\n",
        "                win = False\n",
        "    return win\n",
        "def evaluate(board):\n",
        "    winner = 0\n",
        "    for player in [1, 2]:\n",
        "        if (row_win(board, player) or\n",
        "                col_win(board, player) or\n",
        "                diag_win(board, player)):\n",
        "            winner = player\n",
        "    if np.all(board != 0) and winner == 0:\n",
        "        winner = -1\n",
        "    return winner\n",
        "def play_game():\n",
        "    board, winner, counter = create_board(), 0, 1\n",
        "    print(board)\n",
        "    sleep(2)\n",
        "    while winner == 0:\n",
        "        for player in [1, 2]:\n",
        "            board = random_place(board, player)\n",
        "            print(\"Board after \" + str(counter) + \" move\")\n",
        "            print(board)\n",
        "            sleep(2)\n",
        "            counter += 1\n",
        "            winner = evaluate(board)\n",
        "            if winner != 0:\n",
        "                break\n",
        "    return(winner)\n",
        "print(\"Winner is: \" + str(play_game()))"
      ]
    },
    {
      "cell_type": "markdown",
      "metadata": {
        "id": "DAvN9QWqbsvm"
      },
      "source": [
        "aplha - beta pruning"
      ]
    },
    {
      "cell_type": "code",
      "execution_count": null,
      "metadata": {
        "colab": {
          "base_uri": "https://localhost:8080/"
        },
        "id": "qjo3yDbsbwOw",
        "outputId": "72c066a1-1a8d-4dd1-a77c-f45ba3aaea4b"
      },
      "outputs": [
        {
          "output_type": "stream",
          "name": "stdout",
          "text": [
            "The optimal value is : 5\n",
            "no. of alpha cuts : 4\n",
            "no. of beta cuts : 2\n"
          ]
        }
      ],
      "source": [
        "MAX, MIN = 1000, -1000\n",
        "count1=0\n",
        "count2=0\n",
        "def minimax(depth, nodeIndex, maximizingPlayer, values, alpha, beta):\n",
        "    global count1,count2;\n",
        "    if depth == 3:\n",
        "        return values[nodeIndex]\n",
        "    if maximizingPlayer:\n",
        "        best = MIN\n",
        "        for i in range(0, 2):\n",
        "            val = minimax(depth + 1, nodeIndex * 2 + i, False, values, alpha, beta)\n",
        "            best = max(best, val)\n",
        "            alpha = max(alpha, best)\n",
        "            if beta <= alpha:\n",
        "                count1+=1\n",
        "        return best\n",
        "    else:\n",
        "        best = MAX\n",
        "        for i in range(0, 2):\n",
        "            val = minimax(depth + 1, nodeIndex * 2 + i, True, values, alpha, beta)\n",
        "            best = min(best, val)\n",
        "            beta = min(beta, best)\n",
        "            if beta <= alpha:\n",
        "                count2+=1\n",
        "        return best\n",
        "\n",
        "if __name__ == \"__main__\":\n",
        "    values = [3, 5, 6, 9, 1, 2, 0, -1]\n",
        "    print(\"The optimal value is :\", minimax(0, 0, True, values, MIN, MAX))\n",
        "    print(\"no. of alpha cuts :\" ,count1)\n",
        "    print(\"no. of beta cuts :\" ,count2)"
      ]
    },
    {
      "cell_type": "markdown",
      "metadata": {
        "id": "Ng4yJ1Mxb16L"
      },
      "source": [
        "missionaries and cannibals"
      ]
    },
    {
      "cell_type": "code",
      "execution_count": null,
      "metadata": {
        "colab": {
          "base_uri": "https://localhost:8080/"
        },
        "id": "vA094IF6b6m4",
        "outputId": "9637a4ee-aa60-4ca7-ba1f-eeed2504b00d"
      },
      "outputs": [
        {
          "output_type": "stream",
          "name": "stdout",
          "text": [
            "Solution:\n",
            "(3, 3, 1)\n",
            "(2, 2, 0)\n",
            "(3, 2, 1)\n",
            "(3, 0, 0)\n",
            "(3, 1, 1)\n",
            "(1, 1, 0)\n",
            "(2, 2, 1)\n",
            "(0, 2, 0)\n",
            "(0, 3, 1)\n",
            "(0, 1, 0)\n",
            "(1, 1, 1)\n",
            "(0, 0, 0)\n"
          ]
        }
      ],
      "source": [
        "from collections import deque\n",
        "def is_valid(state):\n",
        "    m, c, b = state\n",
        "    return (m >= 0 and c >= 0 and (m == 0 or m >= c) and (3 - m) >= 0 and (3 - c) >= 0 and (3 - m == 0 or (3 - m) >= (3 - c)))\n",
        "def successors(state):\n",
        "    m, c, b = state\n",
        "    next_states = []\n",
        "    if b == 1:\n",
        "        next_states.extend([(m - 1, c, 0), (m, c - 1, 0), (m - 1, c - 1, 0), (m - 2, c, 0), (m, c - 2, 0)])\n",
        "    else:\n",
        "        next_states.extend([(m + 1, c, 1), (m, c + 1, 1), (m + 1, c + 1, 1), (m + 2, c, 1), (m, c + 2, 1)])\n",
        "    return [state for state in next_states if is_valid(state)]\n",
        "def breadth_first_search():\n",
        "    start_state = (3, 3, 1)\n",
        "    goal_state = (0, 0, 0)\n",
        "    queue = deque([(start_state, [start_state])])\n",
        "    visited = set()\n",
        "    while queue:\n",
        "        current_state, path = queue.popleft()\n",
        "        if current_state == goal_state:\n",
        "            return path\n",
        "        if current_state not in visited:\n",
        "            visited.add(current_state)\n",
        "            for next_state in successors(current_state):\n",
        "                queue.append((next_state, path + [next_state]))\n",
        "if __name__ == \"__main__\":\n",
        "    solution = breadth_first_search()\n",
        "    print(\"Solution:\")\n",
        "    for state in solution:\n",
        "        print(state)"
      ]
    },
    {
      "cell_type": "markdown",
      "metadata": {
        "id": "TLm0qRe9cBJ6"
      },
      "source": [
        "water jug"
      ]
    },
    {
      "cell_type": "code",
      "execution_count": null,
      "metadata": {
        "id": "yW2UeFlEcDIP",
        "colab": {
          "base_uri": "https://localhost:8080/"
        },
        "outputId": "4211a1f1-74eb-403b-c358-611f3c60ca26"
      },
      "outputs": [
        {
          "output_type": "stream",
          "name": "stdout",
          "text": [
            "Jug A \tJug B\n",
            "0 \t0\n",
            "3 \t0\n",
            "0 \t3\n",
            "3 \t3\n",
            "0 \t6\n",
            "3 \t6\n",
            "2 \t7\n",
            "0 \t2\n",
            "3 \t2\n",
            "0 \t5\n"
          ]
        }
      ],
      "source": [
        "def pour_water(juga, jugb):\n",
        "  max1, max2, fill = 3, 7, 5\n",
        "  print(\"%d \\t%d\" % (juga, jugb))\n",
        "  if jugb==fill:\n",
        "    return\n",
        "  elif jugb==max2:\n",
        "    pour_water(0, juga)\n",
        "  elif juga!=0 and jugb==0:\n",
        "    pour_water(0, juga)\n",
        "  elif juga==fill:\n",
        "    pour_water(juga, 0)\n",
        "  elif juga<max1:\n",
        "    pour_water(max1, jugb)\n",
        "  elif juga<(max2-jugb):\n",
        "    pour_water(0, (juga+jugb))\n",
        "  else:\n",
        "    pour_water(juga-(max2-jugb), jugb+(max2-jugb))\n",
        "\n",
        "print(\"Jug A \\tJug B\")\n",
        "pour_water(0,0)"
      ]
    },
    {
      "cell_type": "code",
      "source": [],
      "metadata": {
        "id": "6YFn92VGR2W8"
      },
      "execution_count": null,
      "outputs": []
    },
    {
      "cell_type": "code",
      "execution_count": null,
      "metadata": {
        "id": "-RITTGLSD20H"
      },
      "outputs": [],
      "source": []
    }
  ],
  "metadata": {
    "colab": {
      "provenance": []
    },
    "kernelspec": {
      "display_name": "Python 3",
      "name": "python3"
    },
    "language_info": {
      "name": "python"
    }
  },
  "nbformat": 4,
  "nbformat_minor": 0
}